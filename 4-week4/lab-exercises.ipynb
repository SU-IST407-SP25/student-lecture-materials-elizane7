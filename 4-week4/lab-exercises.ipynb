{
 "cells": [
  {
   "cell_type": "markdown",
   "metadata": {},
   "source": [
    "The following exercises use 2019 flight statistics from the United States Department of Transportation’s Bureau of Transportation Statistics (available [here](https://www.transtats.bts.gov/DL_SelectFields.asp?gnoyr_VQ=FMF&QO_fu146_anzr=Nv4%20Pn44vr45) and in this repository as `data/T100_MARKET_ALL_CARRIER.zip`). Each row contains information about a specific route for a given carrier in a given month (e.g., JFK &rarr; LAX on Delta Airlines in January). There are 321,409 rows and 41 columns. Note that you don't need to unzip the file to read it in with `pd.read_csv()`.\n",
    "\n",
    "This continues last week's exercises."
   ]
  },
  {
   "cell_type": "markdown",
   "metadata": {},
   "source": [
    "#### __Exercise 8__:\n",
    "\n",
    "Find the top 5 carriers for median route distance (i.e., for all origin-destination pairs that each carrier has, find the median distance after removing duplicates)."
   ]
  },
  {
   "cell_type": "code",
   "execution_count": 22,
   "metadata": {},
   "outputs": [
    {
     "data": {
      "text/plain": [
       "UNIQUE_CARRIER_NAME\n",
       "Singapore Airlines Ltd.                                       8068.0\n",
       "Cathay Pacific Airways Ltd.                                   8020.0\n",
       "Qantas Airways Ltd.                                           7886.0\n",
       "Longtail Aviation Ltd.                                        7855.5\n",
       "National Aviation Company of India Limited d/b/a Air India    7798.0\n",
       "Name: DISTANCE, dtype: float64"
      ]
     },
     "execution_count": 22,
     "metadata": {},
     "output_type": "execute_result"
    }
   ],
   "source": [
    "import pandas as pd\n",
    "df = pd.read_csv('/workspaces/student-lecture-materials-elizane7/4-week4/data/T100_MARKET_ALL_CARRIER.zip')\n",
    "df_unique = df[['UNIQUE_CARRIER_NAME','ORIGIN','DISTANCE','DEST']].drop_duplicates()\n",
    "carrier_median = df_unique.groupby('UNIQUE_CARRIER_NAME')['DISTANCE'].median().nlargest(5)\n",
    "carrier_median"
   ]
  },
  {
   "cell_type": "markdown",
   "metadata": {},
   "source": [
    "#### __Exercise 9:__ \n",
    "Find the total cargo transported (mail + freight) and mean distance traveled for the 10 carriers that transported the most cargo."
   ]
  },
  {
   "cell_type": "code",
   "execution_count": null,
   "metadata": {},
   "outputs": [
    {
     "name": "stderr",
     "output_type": "stream",
     "text": [
      "/tmp/ipykernel_15961/1158937912.py:6: SettingWithCopyWarning: \n",
      "A value is trying to be set on a copy of a slice from a DataFrame.\n",
      "Try using .loc[row_indexer,col_indexer] = value instead\n",
      "\n",
      "See the caveats in the documentation: https://pandas.pydata.org/pandas-docs/stable/user_guide/indexing.html#returning-a-view-versus-a-copy\n",
      "  df_totalcargo['CARGO'] = df_1['MAIL'] + df_1['FREIGHT']\n"
     ]
    },
    {
     "data": {
      "text/plain": [
       "UNIQUE_CARRIER_NAME\n",
       "40-Mile Air                                125.598425\n",
       "ABC Aerolineas SA de CV dba Interjet      1308.533469\n",
       "ABS JETS A.S                              2978.419355\n",
       "ABSA-Aerolinhas Brasileiras               3342.157407\n",
       "ABX Air Inc                               1078.459433\n",
       "                                             ...     \n",
       "Wright Air Service                         153.363426\n",
       "XL Airways France                         4580.142857\n",
       "Xiamen Airlines Co., Ltd.                 6905.000000\n",
       "Xtra Airlines  dba  Avelo Airlines         618.092105\n",
       "Yangtze River Express Airlines Company    7058.000000\n",
       "Name: DISTANCE, Length: 318, dtype: float64"
      ]
     },
     "execution_count": 23,
     "metadata": {},
     "output_type": "execute_result"
    }
   ],
   "source": [
    "#df.columns\n",
    "#df.info()\n",
    "\n",
    "df_1 = df[['MAIL','FREIGHT','DISTANCE', 'UNIQUE_CARRIER_NAME']]\n",
    "df_totalcargo = df_1\n",
    "df_totalcargo['CARGO'] = df_1['MAIL'] + df_1['FREIGHT']\n",
    "#df_top10 = df_totalcargo.groupby('UNIQUE_CARRIER_NAME')['DISTANCE'].mean()\n",
    "#df_top10\n",
    "#almost correct but need to keep total cargo column and sort by largest cargo, not largest mean"
   ]
  },
  {
   "cell_type": "code",
   "execution_count": 24,
   "metadata": {},
   "outputs": [
    {
     "data": {
      "text/html": [
       "<div>\n",
       "<style scoped>\n",
       "    .dataframe tbody tr th:only-of-type {\n",
       "        vertical-align: middle;\n",
       "    }\n",
       "\n",
       "    .dataframe tbody tr th {\n",
       "        vertical-align: top;\n",
       "    }\n",
       "\n",
       "    .dataframe thead th {\n",
       "        text-align: right;\n",
       "    }\n",
       "</style>\n",
       "<table border=\"1\" class=\"dataframe\">\n",
       "  <thead>\n",
       "    <tr style=\"text-align: right;\">\n",
       "      <th></th>\n",
       "      <th>CARGO</th>\n",
       "      <th>DISTANCE</th>\n",
       "    </tr>\n",
       "    <tr>\n",
       "      <th>UNIQUE_CARRIER_NAME</th>\n",
       "      <th></th>\n",
       "      <th></th>\n",
       "    </tr>\n",
       "  </thead>\n",
       "  <tbody>\n",
       "    <tr>\n",
       "      <th>Federal Express Corporation</th>\n",
       "      <td>1.270966e+10</td>\n",
       "      <td>1121.887981</td>\n",
       "    </tr>\n",
       "    <tr>\n",
       "      <th>United Parcel Service</th>\n",
       "      <td>9.173867e+09</td>\n",
       "      <td>1030.812650</td>\n",
       "    </tr>\n",
       "    <tr>\n",
       "      <th>Atlas Air Inc.</th>\n",
       "      <td>3.356847e+09</td>\n",
       "      <td>1900.987202</td>\n",
       "    </tr>\n",
       "    <tr>\n",
       "      <th>United Air Lines Inc.</th>\n",
       "      <td>1.577892e+09</td>\n",
       "      <td>1810.656058</td>\n",
       "    </tr>\n",
       "    <tr>\n",
       "      <th>American Airlines Inc.</th>\n",
       "      <td>1.353074e+09</td>\n",
       "      <td>1583.185048</td>\n",
       "    </tr>\n",
       "    <tr>\n",
       "      <th>Kalitta Air LLC</th>\n",
       "      <td>1.272180e+09</td>\n",
       "      <td>2519.580343</td>\n",
       "    </tr>\n",
       "    <tr>\n",
       "      <th>Polar Air Cargo Airways</th>\n",
       "      <td>1.199386e+09</td>\n",
       "      <td>3111.794118</td>\n",
       "    </tr>\n",
       "    <tr>\n",
       "      <th>Delta Air Lines Inc.</th>\n",
       "      <td>1.129524e+09</td>\n",
       "      <td>1612.688752</td>\n",
       "    </tr>\n",
       "    <tr>\n",
       "      <th>China Airlines Ltd.</th>\n",
       "      <td>8.370799e+08</td>\n",
       "      <td>5828.277778</td>\n",
       "    </tr>\n",
       "    <tr>\n",
       "      <th>Cathay Pacific Airways Ltd.</th>\n",
       "      <td>7.741777e+08</td>\n",
       "      <td>7498.685315</td>\n",
       "    </tr>\n",
       "  </tbody>\n",
       "</table>\n",
       "</div>"
      ],
      "text/plain": [
       "                                    CARGO     DISTANCE\n",
       "UNIQUE_CARRIER_NAME                                   \n",
       "Federal Express Corporation  1.270966e+10  1121.887981\n",
       "United Parcel Service        9.173867e+09  1030.812650\n",
       "Atlas Air Inc.               3.356847e+09  1900.987202\n",
       "United Air Lines Inc.        1.577892e+09  1810.656058\n",
       "American Airlines Inc.       1.353074e+09  1583.185048\n",
       "Kalitta Air LLC              1.272180e+09  2519.580343\n",
       "Polar Air Cargo Airways      1.199386e+09  3111.794118\n",
       "Delta Air Lines Inc.         1.129524e+09  1612.688752\n",
       "China Airlines Ltd.          8.370799e+08  5828.277778\n",
       "Cathay Pacific Airways Ltd.  7.741777e+08  7498.685315"
      ]
     },
     "execution_count": 24,
     "metadata": {},
     "output_type": "execute_result"
    }
   ],
   "source": [
    "df.assign(CARGO=lambda x: x.MAIL + x.FREIGHT)\\\n",
    "    .groupby(\"UNIQUE_CARRIER_NAME\")[['CARGO','DISTANCE']].agg(dict(CARGO = 'sum', DISTANCE='mean')).nlargest(10,'CARGO')"
   ]
  },
  {
   "cell_type": "markdown",
   "metadata": {},
   "source": [
    "#### __Exercise 10__:\n",
    "\n",
    "Which 10 carriers flew the most passengers out of the United States to another country?"
   ]
  },
  {
   "cell_type": "code",
   "execution_count": 28,
   "metadata": {},
   "outputs": [
    {
     "data": {
      "text/plain": [
       "UNIQUE_CARRIER_NAME\n",
       "American Airlines Inc.       14867653.0\n",
       "United Air Lines Inc.        14427923.0\n",
       "Delta Air Lines Inc.         13054230.0\n",
       "JetBlue Airways               4522492.0\n",
       "British Airways Plc           3758945.0\n",
       "Lufthansa German Airlines     3123611.0\n",
       "Westjet                       2626600.0\n",
       "Air Canada                    2540855.0\n",
       "Southwest Airlines Co.        2146960.0\n",
       "Virgin Atlantic Airways       2074735.0\n",
       "Name: PASSENGERS, dtype: float64"
      ]
     },
     "execution_count": 28,
     "metadata": {},
     "output_type": "execute_result"
    }
   ],
   "source": [
    "#df_outof_us = df[(df.ORIGIN_COUNTRY_NAME==\"United States\") & (df.DEST_COUNTRY_NAME != \"United States\")]\n",
    "top_10_passengers = df\\\n",
    "    .query('ORIGIN_COUNTRY_NAME == \"United States\" and DEST_COUNTRY_NAME != \"United States\" ')\\\n",
    "    .groupby(\"UNIQUE_CARRIER_NAME\").PASSENGERS.sum().nlargest(10)\n",
    "\n",
    "top_10_passengers"
   ]
  }
 ],
 "metadata": {
  "kernelspec": {
   "display_name": "Python 3",
   "language": "python",
   "name": "python3"
  },
  "language_info": {
   "codemirror_mode": {
    "name": "ipython",
    "version": 3
   },
   "file_extension": ".py",
   "mimetype": "text/x-python",
   "name": "python",
   "nbconvert_exporter": "python",
   "pygments_lexer": "ipython3",
   "version": "3.12.1"
  }
 },
 "nbformat": 4,
 "nbformat_minor": 2
}
